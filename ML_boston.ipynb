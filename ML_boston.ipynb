{
 "cells": [
  {
   "cell_type": "code",
   "execution_count": 27,
   "id": "8c20e617",
   "metadata": {},
   "outputs": [],
   "source": [
    "from sklearn.datasets import load_boston\n",
    "from sklearn.neighbors import KNeighborsRegressor\n",
    "from sklearn.tree import DecisionTreeRegressor\n",
    "from sklearn.linear_model import LinearRegression\n",
    "from sklearn.svm import SVR\n",
    "from xgboost import XGBRegressor\n",
    "from sklearn.ensemble import RandomForestRegressor\n",
    "from sklearn.metrics import r2_score\n",
    "from sklearn.model_selection import train_test_split, GridSearchCV, cross_val_score\n",
    "import matplotlib.pyplot as plt"
   ]
  },
  {
   "cell_type": "code",
   "execution_count": 14,
   "id": "b34cf2bf",
   "metadata": {},
   "outputs": [
    {
     "name": "stderr",
     "output_type": "stream",
     "text": [
      "C:\\Users\\User\\anaconda3\\lib\\site-packages\\sklearn\\utils\\deprecation.py:87: FutureWarning: Function load_boston is deprecated; `load_boston` is deprecated in 1.0 and will be removed in 1.2.\n",
      "\n",
      "    The Boston housing prices dataset has an ethical problem. You can refer to\n",
      "    the documentation of this function for further details.\n",
      "\n",
      "    The scikit-learn maintainers therefore strongly discourage the use of this\n",
      "    dataset unless the purpose of the code is to study and educate about\n",
      "    ethical issues in data science and machine learning.\n",
      "\n",
      "    In this special case, you can fetch the dataset from the original\n",
      "    source::\n",
      "\n",
      "        import pandas as pd\n",
      "        import numpy as np\n",
      "\n",
      "\n",
      "        data_url = \"http://lib.stat.cmu.edu/datasets/boston\"\n",
      "        raw_df = pd.read_csv(data_url, sep=\"\\s+\", skiprows=22, header=None)\n",
      "        data = np.hstack([raw_df.values[::2, :], raw_df.values[1::2, :2]])\n",
      "        target = raw_df.values[1::2, 2]\n",
      "\n",
      "    Alternative datasets include the California housing dataset (i.e.\n",
      "    :func:`~sklearn.datasets.fetch_california_housing`) and the Ames housing\n",
      "    dataset. You can load the datasets as follows::\n",
      "\n",
      "        from sklearn.datasets import fetch_california_housing\n",
      "        housing = fetch_california_housing()\n",
      "\n",
      "    for the California housing dataset and::\n",
      "\n",
      "        from sklearn.datasets import fetch_openml\n",
      "        housing = fetch_openml(name=\"house_prices\", as_frame=True)\n",
      "\n",
      "    for the Ames housing dataset.\n",
      "    \n",
      "  warnings.warn(msg, category=FutureWarning)\n"
     ]
    }
   ],
   "source": [
    "boston = load_boston()"
   ]
  },
  {
   "cell_type": "code",
   "execution_count": 15,
   "id": "5ca7ea4c",
   "metadata": {},
   "outputs": [],
   "source": [
    "x = boston.data\n",
    "y = boston.target"
   ]
  },
  {
   "cell_type": "code",
   "execution_count": 19,
   "id": "a64ebba4",
   "metadata": {},
   "outputs": [],
   "source": [
    "x = (x-x.min())/(x.max() - x.min())"
   ]
  },
  {
   "cell_type": "code",
   "execution_count": 20,
   "id": "aa5116df",
   "metadata": {},
   "outputs": [],
   "source": [
    "x_train, x_test, y_train, y_test = train_test_split(x,y,test_size=0.3,random_state=2022,shuffle = True)"
   ]
  },
  {
   "cell_type": "code",
   "execution_count": 21,
   "id": "5159cebc",
   "metadata": {},
   "outputs": [
    {
     "name": "stdout",
     "output_type": "stream",
     "text": [
      "0.4411247577907321\n",
      "[0.46064762 0.53463548 0.53271634 0.428293   0.35113515 0.32001952\n",
      " 0.55936643 0.3933428  0.2158801  0.61521115]\n"
     ]
    }
   ],
   "source": [
    "model = KNeighborsRegressor()\n",
    "model.fit(x_train, y_train)\n",
    "cv_score = cross_val_score(model, x_train, y_train, cv = 10)\n",
    "print(cv_score.mean())\n",
    "result = {}\n",
    "result['KNN'] = cv_score.mean()\n",
    "print(cv_score)"
   ]
  },
  {
   "cell_type": "code",
   "execution_count": 22,
   "id": "93462a9a",
   "metadata": {},
   "outputs": [
    {
     "name": "stdout",
     "output_type": "stream",
     "text": [
      "0.7317561224756657\n",
      "[0.80766527 0.79936812 0.84928259 0.74340951 0.67038089 0.25543032\n",
      " 0.84316166 0.75159768 0.76276978 0.8344954 ]\n"
     ]
    }
   ],
   "source": [
    "model = DecisionTreeRegressor()\n",
    "model.fit(x_train, y_train)\n",
    "cv_score = cross_val_score(model, x_train, y_train, cv = 10)\n",
    "print(cv_score.mean())\n",
    "result['Tree'] = cv_score.mean()\n",
    "print(cv_score)"
   ]
  },
  {
   "cell_type": "code",
   "execution_count": 23,
   "id": "39576baf",
   "metadata": {},
   "outputs": [
    {
     "name": "stdout",
     "output_type": "stream",
     "text": [
      "0.6979110071590411\n",
      "[0.60111914 0.80415093 0.72032973 0.77772325 0.46198646 0.60611024\n",
      " 0.6781901  0.75249854 0.78569936 0.79130233]\n"
     ]
    }
   ],
   "source": [
    "model = LinearRegression()\n",
    "model.fit(x_train, y_train)\n",
    "cv_score = cross_val_score(model, x_train, y_train, cv = 10)\n",
    "print(cv_score.mean())\n",
    "result['LinearR']  = cv_score.mean()\n",
    "print(cv_score)"
   ]
  },
  {
   "cell_type": "code",
   "execution_count": 24,
   "id": "0b18bc73",
   "metadata": {},
   "outputs": [
    {
     "name": "stdout",
     "output_type": "stream",
     "text": [
      "0.13872823990713629\n",
      "[ 0.05605412  0.27643069  0.08700447  0.23525336 -0.10935184  0.40060793\n",
      "  0.15456373 -0.12046515  0.22583749  0.18134759]\n"
     ]
    }
   ],
   "source": [
    "model = SVR()\n",
    "model.fit(x_train, y_train)\n",
    "cv_score = cross_val_score(model, x_train, y_train, cv = 10)\n",
    "print(cv_score.mean())\n",
    "result['SVR'] = cv_score.mean()\n",
    "print(cv_score)"
   ]
  },
  {
   "cell_type": "code",
   "execution_count": 30,
   "id": "0f62fcf3",
   "metadata": {},
   "outputs": [
    {
     "name": "stdout",
     "output_type": "stream",
     "text": [
      "0.8641092533222974\n",
      "[0.83314349 0.87118132 0.93172808 0.87835015 0.78006309 0.72219461\n",
      " 0.91036556 0.87080739 0.91766872 0.92559012]\n"
     ]
    }
   ],
   "source": [
    "model = XGBRegressor()\n",
    "model.fit(x_train, y_train)\n",
    "cv_score = cross_val_score(model, x_train, y_train, cv = 10)\n",
    "print(cv_score.mean())\n",
    "result['XGBR'] = cv_score.mean()\n",
    "print(cv_score)"
   ]
  },
  {
   "cell_type": "code",
   "execution_count": 26,
   "id": "78239a47",
   "metadata": {},
   "outputs": [
    {
     "name": "stdout",
     "output_type": "stream",
     "text": [
      "0.8617285332809861\n",
      "[0.87240439 0.8877497  0.92699647 0.83646344 0.79203136 0.75661888\n",
      " 0.82837443 0.85703714 0.90900488 0.95060464]\n"
     ]
    }
   ],
   "source": [
    "model = RandomForestRegressor()\n",
    "model.fit(x_train, y_train)\n",
    "cv_score = cross_val_score(model, x_train, y_train, cv = 10)\n",
    "print(cv_score.mean())\n",
    "result['Forest'] = cv_score.mean()\n",
    "print(cv_score)"
   ]
  },
  {
   "cell_type": "code",
   "execution_count": 29,
   "id": "2ac09ab5",
   "metadata": {},
   "outputs": [
    {
     "data": {
      "image/png": "[encoded data removed]",
      "text/plain": [
       "<Figure size 432x288 with 1 Axes>"
      ]
     },
     "metadata": {
      "needs_background": "light"
     },
     "output_type": "display_data"
    }
   ],
   "source": [
    "plt.barh(y=list(result), width = result.values())\n",
    "plt.show()"
   ]
  },
  {
   "cell_type": "code",
   "execution_count": 32,
   "id": "b12c769a",
   "metadata": {},
   "outputs": [],
   "source": [
    "model_xg = XGBRegressor()\n",
    "\n",
    "params = {'n_estimators' : range(5,11),\n",
    "         'max_depth' : range(3,15)}\n",
    "\n",
    "model = GridSearchCV(model_xg,\n",
    "                    params,\n",
    "                    cv = 10,\n",
    "                    scoring = 'r2')\n",
    "\n",
    "model.fit(x_train, y_train)\n",
    "y_pred = model.predict(x_test)"
   ]
  },
  {
   "cell_type": "code",
   "execution_count": 33,
   "id": "6c02f719",
   "metadata": {},
   "outputs": [
    {
     "name": "stdout",
     "output_type": "stream",
     "text": [
      "{'max_depth': 10, 'n_estimators': 10}\n",
      "0.8459479307161661\n"
     ]
    }
   ],
   "source": [
    "print(model.best_params_)\n",
    "print(model.best_score_)"
   ]
  },
  {
   "cell_type": "code",
   "execution_count": 34,
   "id": "e5fc6d72",
   "metadata": {},
   "outputs": [
    {
     "name": "stdout",
     "output_type": "stream",
     "text": [
      "0.8389229419415161\n"
     ]
    }
   ],
   "source": [
    "print(r2_score(y_test, y_pred))"
   ]
  },
  {
   "cell_type": "code",
   "execution_count": null,
   "id": "d969bc1d",
   "metadata": {},
   "outputs": [],
   "source": []
  }
 ],
 "metadata": {
  "kernelspec": {
   "display_name": "Python 3",
   "language": "python",
   "name": "python3"
  },
  "language_info": {
   "codemirror_mode": {
    "name": "ipython",
    "version": 3
   },
   "file_extension": ".py",
   "mimetype": "text/x-python",
   "name": "python",
   "nbconvert_exporter": "python",
   "pygments_lexer": "ipython3",
   "version": "3.8.8"
  }
 },
 "nbformat": 4,
 "nbformat_minor": 5
}
